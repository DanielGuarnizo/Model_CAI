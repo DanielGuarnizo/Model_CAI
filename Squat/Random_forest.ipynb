{
 "cells": [
  {
   "cell_type": "code",
   "execution_count": 2,
   "metadata": {},
   "outputs": [],
   "source": [
    "import pandas as pd\n",
    "from sklearn.model_selection import train_test_split\n",
    "from sklearn.ensemble import RandomForestClassifier\n",
    "from sklearn.metrics import accuracy_score, classification_report"
   ]
  },
  {
   "cell_type": "code",
   "execution_count": 5,
   "metadata": {},
   "outputs": [
    {
     "name": "stdout",
     "output_type": "stream",
     "text": [
      "Accuracy: 0.9973931933381608\n",
      "Classification Report:\n",
      "                  precision    recall  f1-score   support\n",
      "\n",
      "  bad_back_round       1.00      0.99      1.00      2291\n",
      "   bad_back_warp       1.00      1.00      1.00      2474\n",
      "        bad_head       1.00      1.00      1.00      2180\n",
      "bad_innner_thigh       1.00      1.00      1.00      1887\n",
      "     bad_shallow       1.00      1.00      1.00      2555\n",
      "         bad_toe       1.00      1.00      1.00      2423\n",
      "\n",
      "        accuracy                           1.00     13810\n",
      "       macro avg       1.00      1.00      1.00     13810\n",
      "    weighted avg       1.00      1.00      1.00     13810\n",
      "\n"
     ]
    }
   ],
   "source": [
    "# Load the data\n",
    "data = pd.read_csv('hidden_states.csv')\n",
    "\n",
    "data = data[data.iloc[:, -1] != 'good']\n",
    "\n",
    "# Assuming the label is the last column\n",
    "X = data.iloc[:, :-1]  # Features\n",
    "y = data.iloc[:, -1]   # Labels\n",
    "\n",
    "# Split the data into training and testing sets\n",
    "X_train, X_test, y_train, y_test = train_test_split(X, y, test_size=0.2, random_state=1)\n",
    "\n",
    "# Train the model\n",
    "model_hidden_states = RandomForestClassifier(n_estimators=100, random_state=12)\n",
    "model_hidden_states.fit(X_train, y_train)\n",
    "\n",
    "# Evaluate the model\n",
    "y_pred = model_hidden_states.predict(X_test)\n",
    "print(f'Accuracy: {accuracy_score(y_test, y_pred)}')\n",
    "print('Classification Report:')\n",
    "print(classification_report(y_test, y_pred))\n",
    "\n",
    "# Function to predict new data points\n",
    "def predict_new_data(new_data):\n",
    "    return model_hidden_states.predict(new_data)\n",
    "\n",
    "# Example usage:\n",
    "# new_data = pd.DataFrame([[value1, value2, ..., value128]], columns=X.columns)\n",
    "# print(predict_new_data(new_data))"
   ]
  },
  {
   "cell_type": "code",
   "execution_count": 4,
   "metadata": {},
   "outputs": [
    {
     "name": "stdout",
     "output_type": "stream",
     "text": [
      "Index(['0.37496972', '0.02294418', '-0.09915469', '-0.08665991', '0.69460523',\n",
      "       '0.20505585', '0.1174093', '-0.09727883', '-0.7779712', '-0.23334654',\n",
      "       ...\n",
      "       '-0.20954007', '0.663307', '0.72925764', '0.2916124', '0.4051051',\n",
      "       '-0.23542975', '0.23319969', '-0.11743875', '-0.11198474',\n",
      "       'bad_back_round'],\n",
      "      dtype='object', length=129)\n"
     ]
    }
   ],
   "source": [
    "print(data.columns)"
   ]
  },
  {
   "cell_type": "code",
   "execution_count": null,
   "metadata": {},
   "outputs": [],
   "source": []
  }
 ],
 "metadata": {
  "kernelspec": {
   "display_name": "venv",
   "language": "python",
   "name": "python3"
  },
  "language_info": {
   "codemirror_mode": {
    "name": "ipython",
    "version": 3
   },
   "file_extension": ".py",
   "mimetype": "text/x-python",
   "name": "python",
   "nbconvert_exporter": "python",
   "pygments_lexer": "ipython3",
   "version": "3.12.3"
  }
 },
 "nbformat": 4,
 "nbformat_minor": 2
}
